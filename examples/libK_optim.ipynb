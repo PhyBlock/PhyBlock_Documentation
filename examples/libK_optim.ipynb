{
  "cells": [
    {
      "cell_type": "raw",
      "id": "2905bfc3",
      "metadata": {
        "id": "2905bfc3"
      },
      "source": [
        "title: \"SUR / update_simulate / optim\"\n",
        "\n",
        "authors: \"IRSN / Y. Richet, IFPEN / M. Menz, M. Munoz-Zuniga\"\n",
        "\n",
        "date: \"2024-11-14\"\n",
        "\n",
        "---"
      ]
    },
    {
      "cell_type": "code",
      "execution_count": null,
      "id": "2c72ad85",
      "metadata": {
        "eval": false,
        "id": "2c72ad85"
      },
      "outputs": [],
      "source": [
        "# Installation des packages nécessaires, en utilisant packagemanager.posit pour accélérer\n",
        "options(repos=list(CRAN='https://packagemanager.posit.co/cran/__linux__/jammy/latest/'))\n",
        "install.packages('rlibkriging')\n",
        "install.packages('DiceView')"
      ]
    },
    {
      "cell_type": "code",
      "source": [
        "# Latest DiceView (waiting for CRAN sync)\n",
        "remotes::install_github('IRSN/DiceView')"
      ],
      "metadata": {
        "id": "zqfl2uAxyazH"
      },
      "id": "zqfl2uAxyazH",
      "execution_count": null,
      "outputs": []
    },
    {
      "cell_type": "code",
      "execution_count": null,
      "id": "5dac29b3",
      "metadata": {
        "id": "5dac29b3"
      },
      "outputs": [],
      "source": [
        "#knitr::opts_chunk$set(echo = TRUE)\n",
        "\n",
        "# chargement des librairies\n",
        "library(rlibkriging)\n",
        "library(DiceView)\n",
        "\n",
        "# setup default plots aesthetics\n",
        "par(oma = c(0,0,0,0))\n",
        "par(mar = c(3, 3, 1, 1))\n",
        "par(cex.lab=0.5, cex.axis=0.5, cex.main=0.5)\n",
        "par(bg = \"white\")\n",
        "\n",
        "options(digits=5)"
      ]
    },
    {
      "cell_type": "markdown",
      "id": "878d342c",
      "metadata": {
        "id": "878d342c"
      },
      "source": [
        "# Objectif\n",
        "\n",
        "On cherche à minimiser la fonction\n",
        "$$ f: x \\rightarrow -(1.4-3 x) sin(18 x)$$\n",
        "\n",
        "Soit, identifier\n",
        "\n",
        "$$x_{min} = argmin_{x \\in D_X}(f(.)) $$"
      ]
    },
    {
      "cell_type": "code",
      "execution_count": null,
      "id": "9b90ec04",
      "metadata": {
        "id": "9b90ec04"
      },
      "outputs": [],
      "source": [
        "f <- function(x)\n",
        "    -(1.4 - 3*x) * sin(18*x)\n",
        "\n",
        "plot(f)\n",
        "\n",
        "# On cherche à identifier xmin:\n",
        "xmin = optims(c(0.95,1.), f, method=\"L-BFGS-B\", lower=0, upper=1)$par\n",
        "abline(v=xmin, col='red',lty=3)\n",
        "points(xmin,f(xmin), col='red',pch=20)"
      ]
    },
    {
      "cell_type": "markdown",
      "id": "7275febc",
      "metadata": {
        "id": "7275febc"
      },
      "source": [
        "# Métamodèle GP\n",
        "\n",
        "Sur un plan d'expérience inital de petite taille $(X,Y)$, on construit un processus gaussien :\n",
        "$$\\xi_{X,Y}: x \\rightarrow \\xi(x) \\sim \\mathcal N(m_{X,Y}(x),k_{X,Y}(x)).$$\n",
        "\n",
        "Ce méta-modèle est insuffisant en l'état pour atteindre l'objectif :"
      ]
    },
    {
      "cell_type": "code",
      "execution_count": null,
      "id": "0c37e111",
      "metadata": {
        "id": "0c37e111"
      },
      "outputs": [],
      "source": [
        "# plan d'exp initial\n",
        "X0 = matrix(c(.01, 0.31, 0.82, 0.46, 0.61),ncol=1)\n",
        "Y0 = f(X0)\n",
        "\n",
        "\n",
        "\n",
        "GP = function(X,Y)\n",
        "  Kriging(matrix(Y), matrix(X), kernel=\"gauss\", optim=\"none\", parameters=list(theta=c(.15),sigma2=1))\n",
        "\n",
        "sectionview(GP(X0,Y0), Xlim=c(0,1),ylim=c(-2,1.5))\n",
        "sectionview(f, dim=1, col='black', Xlim=c(0,1),ylim=c(-2,1.5),add = TRUE)\n",
        "points(X0, Y0)\n",
        "# Objectif\n",
        "abline(v=xmin, col='red',lty=3)\n",
        "points(xmin,f(xmin), col='red',pch=20)"
      ]
    },
    {
      "cell_type": "markdown",
      "id": "5fc86bf9",
      "metadata": {
        "id": "5fc86bf9"
      },
      "source": [
        "# Amélioration espérée du minimum courant du métamodèle\n",
        "Soit $X,Y$ notre plan d'expériences courant (pour le moment initial).\n",
        "\n",
        "Choix du critère \"local\" d'intérêt : Espérance de dépassement du minimum courant.\n",
        "$$EI(x|X,Y):=E_{\\xi_{X,Y}(x)}[min(Y) - \\xi_{X,Y}(x)]^{+} $$\n",
        "\n",
        "On calcule le critère \"global\" $J$ en utilisant les prédictions du GP courant $\\xi$ et en intégrant numériquement le critère sur $D_X$ :\n",
        "\n",
        "$$J_{X,Y} := \\int_{x \\in D_X}EI(x|X,Y)dx$$"
      ]
    },
    {
      "cell_type": "code",
      "execution_count": null,
      "id": "9ffe3ec4",
      "metadata": {
        "id": "9ffe3ec4"
      },
      "outputs": [],
      "source": [
        "x = seq(0, 1,,101)\n",
        "\n",
        "X = X0\n",
        "Y = Y0\n",
        "\n",
        "# predictions du métamodèle\n",
        "y = GP(X,Y)$predict(x)\n",
        "minY=min(Y)\n",
        "\n",
        "# amélioration espérée\n",
        "g <- (minY - y$mean) / y$stdev\n",
        "g[y$stdev==0] = 0\n",
        "EI = y$stdev * (g * pnorm(g) + dnorm(g))\n",
        "\n",
        "par(mfrow=c(2,1))\n",
        "\n",
        "sectionview(GP(X,Y), Xlim=c(0,1),ylim=c(-2,1.5), conf_lev=.9)\n",
        "\n",
        "abline(v=xmin, col='red',lty=3)\n",
        "points(xmin,f(xmin), col='red',pch=20)\n",
        "\n",
        "abline(h=min(Y), col='red',lty=2)\n",
        "\n",
        "plot(x,EI, type='l',col='violet', main=\"Amélioration espérée du min courant\")\n",
        "polygon(c(0,x,1), c(0,EI,0), col=rgb(1,0.5,1,.2), border=NA)\n",
        "abline(v=xmin, col='red',lty=3)\n",
        "\n",
        "# J: intégrale sur X de l'amélioration espérée\n",
        "text(x=.5,y=.05,labels=paste0(\"J = \",sum(EI)/length(EI)))"
      ]
    },
    {
      "cell_type": "markdown",
      "source": [],
      "metadata": {
        "id": "95C8rKKohTHH"
      },
      "id": "95C8rKKohTHH"
    },
    {
      "cell_type": "markdown",
      "id": "d3ec180f",
      "metadata": {
        "id": "d3ec180f"
      },
      "source": [
        "\n",
        "\n",
        "Une alternative consiste en un calcul empirique utilisant les simulations du GP (et non pas les prédictions)"
      ]
    },
    {
      "cell_type": "code",
      "execution_count": null,
      "id": "af996ade",
      "metadata": {
        "id": "af996ade"
      },
      "outputs": [],
      "source": [
        "# simulations du métamodèle\n",
        "S = GP(X,Y)$simulate(nsim=100,seed=123, x)\n",
        "#print(dim(S))\n",
        "\n",
        "# amélioration espérée\n",
        "ppos = function(x) {x[x<0]=0; x}\n",
        "#print(GP(X,Y)$y())\n",
        "minY=min(GP(X,Y)$y())\n",
        "EI_S = rowMeans(ppos(minY - S))\n",
        "\n",
        "par(mfrow=c(2,1))\n",
        "\n",
        "sectionview(GP(X,Y), Xlim=c(0,1),ylim=c(-2,1.5), conf_lev=.9, conf_fading = 0.1)\n",
        "for (i in 1:ncol(S))\n",
        "    lines(x,S[,i], col=rgb(0,0,1,.21),lty=1)\n",
        "# Objectif\n",
        "abline(v=xmin, col='red',lty=3)\n",
        "points(xmin,f(xmin), col='red',pch=20)\n",
        "abline(h=min(Y), col='red',lty=2)\n",
        "\n",
        "plot(x,EI_S, type='l',col='violet', main=\"Amélioration espérée du min courant\",lwd=3)\n",
        "polygon(c(0,x,1), c(0,EI_S,0), col=rgb(1,0.5,1,.2), border=NA)\n",
        "lines(x,EI, type='l',lty=3,col='violet', main=\"Amélioration espérée du min courant\",lwd=3)\n",
        "# Objectif\n",
        "abline(v=xmin, col='red',lty=3)\n",
        "\n",
        "# J: intégrale sur X de l'amélioration espérée\n",
        "text(x=.5,y=.05,labels=paste0(\"Ĵ = \",sum(EI_S)/length(EI_S)))"
      ]
    },
    {
      "cell_type": "markdown",
      "id": "85529c43",
      "metadata": {
        "id": "85529c43"
      },
      "source": [
        "#(optim) Recherche d'un nouveau point de design..."
      ]
    },
    {
      "cell_type": "markdown",
      "id": "a171217e",
      "metadata": {
        "id": "a171217e"
      },
      "source": [
        "Considérons à présent notre critère d'intérêt : \"espérance de dépassement du minimum courant intégré\", comme une fonction du plan d'expériences\n",
        "$$J(X,Y) = \\int_{x \\in D_X} EI(x|X,Y)dx$$\n",
        "\n"
      ]
    },
    {
      "cell_type": "code",
      "execution_count": null,
      "id": "f8c64cd8",
      "metadata": {
        "id": "f8c64cd8"
      },
      "outputs": [],
      "source": [
        "J = function(X,Y) {\n",
        "    y = GP(X,Y)$predict(x)\n",
        "    g <- (min(Y) - y$mean) / y$stdev\n",
        "    g[y$stdev==0] = 0\n",
        "    EI = y$stdev * (g * pnorm(g) + dnorm(g))\n",
        "    return(mean( EI ))\n",
        "}\n",
        "J(X,Y)"
      ]
    },
    {
      "cell_type": "markdown",
      "id": "faa78670",
      "metadata": {
        "id": "faa78670"
      },
      "source": [
        "---\n",
        "#Démarche \"SUR\"\n",
        "Nous cherchons à placer un point de design qui ajouté au plan d'expériences,\n",
        "$$({X \\cup x_{next}},{Y \\cup y_{next}}),$$\n",
        "va minimiser notre critère global :\n",
        "$$J({X \\cup x_{next}},{Y \\cup y_{next}})$$\n",
        "En supposant que les valeurs $y_{next}$ sont des réalisations de $\\xi_{X,Y}(x_{next})$, le GP courant, nous introduisons l'amélioration espérée correspondante :\n",
        "\n",
        "$$J_{next}(x_{next}) = E_{\\xi(x_{next})} \\big[J({X \\cup x_{next}},{Y \\cup \\xi(x_{next})}\\big].$$\n",
        "\n",
        "---\n",
        "\n",
        "Soit,\n",
        "\n",
        "\\begin{eqnarray}\n",
        "J_{next}(x_{next}) &=& \\int_{y_{next} \\sim \\xi_{X,Y}(x_{next})} \\int_{x \\in D_X} EI(x|{X \\cup x_{next}},{Y \\cup y_{next}})dx&\\\\\n",
        "&=& \\int_{y_{next} \\sim \\xi_{X,Y}(x_{next})} \\int_{x \\in D_X} E_{\\xi_{next}(x)}[min(Y \\cup y_{next}) - \\xi_{next}(x)]^{+}dx&\n",
        "\\end{eqnarray}\n",
        "\n",
        "où $\\xi_{next}$ est le PG conditionné en $Y \\cup y_{next}$.\n",
        "\n",
        "Evaluation de $J_{next}(x_{next})$ et plot de $EI(x|{X \\cup x_{next}},{Y \\cup y_{next}})$ en un point $x_{next}$ donné et pour quelques réalisations de $y_{next}$ :"
      ]
    },
    {
      "cell_type": "code",
      "execution_count": null,
      "id": "2f503db9",
      "metadata": {
        "id": "2f503db9"
      },
      "outputs": [],
      "source": [
        "#split.screen(figs = c(2,1))\n",
        "\n",
        "#screen(1, new=TRUE)\n",
        "plot(f, xlim=c(0,1), ylim=c(-2,1.5))\n",
        "sectionview(GP(X,Y), conf_lev=.9, conf_fading = 0.5, Xlim=c(0,1), ylim=c(-2,1.5), add=TRUE)\n",
        "# Objectif\n",
        "abline(v=xmin, col='red',lty=3)\n",
        "points(xmin,f(xmin), col='red',pch=20)\n",
        "\n",
        "#screen(2, new=TRUE)\n",
        ".x=seq(0,1,,1001)\n",
        "y.x = GP(X,Y)$predict(.x)\n",
        "g <- (min(Y) - y.x$mean) / y.x$stdev\n",
        "g[y.x$stdev==0] = 0\n",
        "EI.x = y.x$stdev * (g * pnorm(g) + dnorm(g)) *10\n",
        "#lines(.x,EI.x, type='l',col='blue')\n",
        "polygon(c(0,.x,1), c(0,EI.x,0)-2, col=rgb(0,0,1,.2), border=NA)\n",
        "text(x=.5,y=-1.5,col=\"blue\",labels=paste0(\"J = \",J(X,Y)))\n",
        "\n",
        "# choix arbitraire du point de design suivant\n",
        "xnext = x[16] # =0.15\n",
        "#screen(1, new=FALSE)\n",
        "abline(v=xnext,col='red')\n",
        "\n",
        "# calcul du SUR avec ce point\n",
        "Ynext = GP(X,Y)$predict(xnext)\n",
        "\n",
        "Jnext = array(NA,5)\n",
        "for (i in 1:length(Jnext)) { # on échantillone ynext selon la loi de prédiction en xnext (normale)\n",
        "    q = i/(length(Jnext)+1)\n",
        "    ynext_i = qnorm(q, Ynext$mean, Ynext$stdev)\n",
        "    jnext_i = J(c(X,xnext),c(Y,ynext_i))\n",
        "    Jnext[i] = jnext_i\n",
        "\n",
        "    GPnext_i = GP(c(X,xnext),c(Y,ynext_i))\n",
        "    #screen(1, new=FALSE)\n",
        "    sectionview(GPnext_i, col=\"violet\", conf_lev=.9, conf_fading = 0.5, Xlim=c(0,1), add=TRUE)\n",
        "\n",
        "    #screen(2, new=FALSE)\n",
        "    yn.x = GPnext_i$predict(.x)\n",
        "    gn <- (min(c(Y,ynext_i)) - yn.x$mean) / yn.x$stdev\n",
        "    gn[yn.x$stdev==0] = 0\n",
        "    EI.x = yn.x$stdev * (gn * pnorm(gn) + dnorm(gn)) *10\n",
        "    #lines(.x,p.x*(1-p.x),col='violet')\n",
        "    polygon(c(0,.x,1), c(0,EI.x,0)-2, col=rgb(1,0.5,1,.2), border=\"violet\")\n",
        "}\n",
        "text(x=xnext,y=-1.2,col=\"violet\",labels=paste0(\"Jnext(\",xnext,\") = \\n\",mean(Jnext)))"
      ]
    },
    {
      "cell_type": "markdown",
      "id": "8800374a",
      "metadata": {
        "id": "8800374a"
      },
      "source": [
        "# Calcul de Jnext"
      ]
    },
    {
      "cell_type": "code",
      "execution_count": null,
      "id": "a741ccf2",
      "metadata": {
        "id": "a741ccf2"
      },
      "outputs": [],
      "source": [
        "# calcul \"exact\" du SUR avec ce point\n",
        "Ynext = GP(X,Y)$predict(xnext)\n",
        "Jnext = integrate(Vectorize(function(q) # on échantillonne selon la loi (normale) de Kn en xnext\n",
        "    J(c(X,xnext),c(Y, qnorm(q, Ynext$mean, Ynext$stdev)))),0 +1e-3, 1 -1e-3)$value\n",
        "print(paste0(\"Jnext(\",xnext,\")  = \",Jnext))\n",
        "\n",
        "# ... ou version approx. par mesh régulier des quantiles :\n",
        "Jnext = function(xnext, X, Y) {\n",
        "    if (any(abs(xnext-X)<1e-5)) { return(J(X,Y)) }\n",
        "    Ynext = GP(X,Y)$predict(xnext)\n",
        "    Jnext = array(NA,100)\n",
        "    for (i in 1:length(Jnext)) {\n",
        "        q = i/(length(Jnext)+1)\n",
        "        ynext_i = qnorm(q, Ynext$mean, Ynext$stdev)\n",
        "        Jnext[i] = J(c(X,xnext),c(Y,ynext_i))\n",
        "    }\n",
        "    return(mean(Jnext))\n",
        "}\n",
        "print(paste0(\"Jnext(\",xnext,\") ~= \",Jnext(xnext,X,Y)))"
      ]
    },
    {
      "cell_type": "markdown",
      "id": "964154e4",
      "metadata": {
        "id": "964154e4"
      },
      "source": [
        "# Critère local vs. global\n",
        "\n",
        "On peut comparer les deux approches \"locale\" $EI$ et \"globale\" $J_{next}$ de choix du prochain point de design :"
      ]
    },
    {
      "cell_type": "code",
      "execution_count": null,
      "id": "f467eeac",
      "metadata": {
        "id": "f467eeac"
      },
      "outputs": [],
      "source": [
        "par(mfrow=c(3,1))\n",
        "\n",
        "sectionview(GP(X,Y), Xlim=c(0,1),ylim=c(-2,1.5), conf_lev=.9)\n",
        "# Objectif\n",
        "abline(v=xmin, col='red',lty=3)\n",
        "points(xmin,f(xmin), col='red',pch=20)\n",
        "\n",
        "# predictions du métamodèle\n",
        "y = GP(X,Y)$predict(x)\n",
        "\n",
        "# amélioration espérée\n",
        "g <- (min(Y) - y$mean) / y$stdev\n",
        "g[y$stdev==0] = 0\n",
        "EI = y$stdev * (g * pnorm(g) + dnorm(g))\n",
        "\n",
        "abline(h=min(Y), col='red',lty=2)\n",
        "\n",
        "plot(x,EI, type='l',col='violet', main=\"Amélioration espérée du minimum courant\")\n",
        "polygon(c(0,x,1), c(0,EI,0), col=rgb(1,0.5,1,.2), border=NA)\n",
        "# Objectif\n",
        "abline(v=xmin, col='red',lty=3)\n",
        "\n",
        "# meilleurs points (selon EI):\n",
        "P_opts = optims(seq(0,1,,15), function(x) {\n",
        "  y = GP(X,Y)$predict(x);\n",
        "  g = (min(Y) - y$mean) / y$stdev;\n",
        "  g[y$stdev==0] = 0;\n",
        "  ei = y$stdev * (g * pnorm(g) + dnorm(g));\n",
        "  -ei }, method=\"L-BFGS-B\", lower=0, upper=1)\n",
        "\n",
        "P_opts = P_opts$pars[P_opts$values < -0.00001]\n",
        "\n",
        "abline(v=P_opts,col='violet',lty=3)\n",
        "\n",
        "DJ_x = J(X,Y) - Vectorize(function(.x) Jnext(.x,X,Y))(x)\n",
        "plot(x,DJ_x, type='l',col='purple', main=\"SUR EI\")\n",
        "polygon(c(0,x,1), c(0,DJ_x,0), col=rgb(0.5,0,1,.2), border=NA)\n",
        "abline(v=P_opts,col='violet',lty=3)\n",
        "# Objectif\n",
        "abline(v=xmin, col='red',lty=3)"
      ]
    },
    {
      "cell_type": "markdown",
      "id": "14cb0ed3",
      "metadata": {
        "id": "14cb0ed3"
      },
      "source": [
        "# Utilisation des simulations pour évaluer le critère Jnext"
      ]
    },
    {
      "cell_type": "markdown",
      "id": "8ce4b1f2",
      "metadata": {
        "id": "8ce4b1f2"
      },
      "source": [
        "Fonction générique de calcul de $\\hat J(X,Y)$ à partir de simulations du processus:\n"
      ]
    },
    {
      "cell_type": "code",
      "execution_count": null,
      "id": "9bb941db",
      "metadata": {
        "id": "9bb941db"
      },
      "outputs": [],
      "source": [
        "J_hat = function(X,Y, nsim=100) {\n",
        "    #y = GP(X,Y)$predict(x)\n",
        "    S = GP(X,Y)$simulate(nsim=nsim,seed=123, x)\n",
        "    EI = rowMeans(ppos(min(Y) - S))\n",
        "    j = mean( EI )\n",
        "    attributes(j) <- list(\"sd\" = sd(EI)/sqrt(nsim))\n",
        "    return(j)\n",
        "}\n",
        "t0 = Sys.time()\n",
        "print(paste0(\"Calcul avec les prédictions: J = \",J(X0,Y0)))\n",
        "print(Sys.time()-t0)\n",
        "\n",
        "t0 = Sys.time()\n",
        "Jhat = J_hat(X0,Y0, nsim=10000)\n",
        "print(paste0(\"Calcul avec les simulations: Ĵ = \",Jhat, \" +/- \",attributes(Jhat)$sd))\n",
        "print(Sys.time()-t0)"
      ]
    },
    {
      "cell_type": "markdown",
      "id": "d941e9cc",
      "metadata": {
        "id": "d941e9cc"
      },
      "source": [
        "On constate que l'utilisation des simulations (pour une précision élevée) est plus __lente__ que l'utilisation des prédictions.\n",
        "\n",
        "Utilisons l'approche par simulation pour la fonction générique de calcul de $\\hat J_{next}$ :"
      ]
    },
    {
      "cell_type": "code",
      "execution_count": null,
      "id": "a17856b7",
      "metadata": {
        "lines_to_next_cell": 2,
        "id": "a17856b7"
      },
      "outputs": [],
      "source": [
        "Jnext_hat = function(xnext, X,Y, nsim=100) {\n",
        "    if (any(abs(xnext-X)<1e-5)) { return(J_hat(X,Y)) }\n",
        "    Ynext = GP(X,Y)$predict(xnext)\n",
        "    Jnext = array(NA,100)\n",
        "    for (i in 1:length(Jnext)) { # on échantillone ynext selon la loi de prédiction en xnext (normale)\n",
        "        q = i/(length(Jnext)+1)\n",
        "        ynext_i = qnorm(q, Ynext$mean, Ynext$stdev)\n",
        "        Jnext[i] = J_hat(c(X,xnext),c(Y,ynext_i), nsim=nsim)\n",
        "    }\n",
        "    return(mean(Jnext))\n",
        "}\n",
        "t0 = Sys.time()\n",
        "print(paste0(\"Calcul avec les prédictions: Jnext(\",xnext,\") = \",Jnext(xnext,X0,Y0)))\n",
        "print(Sys.time()-t0)\n",
        "\n",
        "t0 = Sys.time()\n",
        "print(paste0(\"Calcul avec les simulations: Ĵnext(\",xnext,\") = \",Jnext_hat(xnext,X0,Y0, nsim=100)))\n",
        "print(Sys.time()-t0)"
      ]
    },
    {
      "cell_type": "markdown",
      "id": "7a0870d7",
      "metadata": {
        "id": "7a0870d7"
      },
      "source": [
        "On optimise le calcul de $\\hat J_{next}$ en utilisant les updates de simulations du GP :"
      ]
    },
    {
      "cell_type": "code",
      "execution_count": null,
      "id": "d000f84e",
      "metadata": {
        "id": "d000f84e"
      },
      "outputs": [],
      "source": [
        "Jnext_hat_fast = function(xnext, X,Y, nsim=100) {\n",
        "    if (any(abs(xnext-X)<1e-5)) { return(J_hat(X,Y)) }\n",
        "    Ynext = GP(X,Y)$predict(xnext)\n",
        "    gp = GP(X,Y)\n",
        "    S = gp$simulate(nsim=nsim,seed=123, c(xnext,x), will_update=TRUE) # needed for later 'update_simulate'\n",
        "    Jnext = array(NA,100)\n",
        "    for (i in 1:length(Jnext)) { # on échantillone ynext selon la loi de prédiction en xnext (normale)\n",
        "        q = i/(length(Jnext)+1)\n",
        "        ynext_i = qnorm(q, Ynext$mean, Ynext$stdev)\n",
        "################################################################################\n",
        "        Snext_i = gp$update_simulate(ynext_i, xnext)\n",
        "################################################################################\n",
        "        EI = rowMeans(ppos(min(c(Y,ynext_i)) - Snext_i))\n",
        "        Jnext[i] = mean( EI )\n",
        "    }\n",
        "    return(mean(Jnext))\n",
        "}\n",
        "t0 = Sys.time()\n",
        "print(paste0(\"Calcul avec les prédictions: Jnext(\",xnext,\") = \",Jnext(xnext,X0,Y0)))\n",
        "print(Sys.time()-t0)\n",
        "\n",
        "t0 = Sys.time()\n",
        "print(paste0(\"Calcul avec les simulations: Ĵnext(\",xnext,\") = \",Jnext_hat(xnext,X0,Y0, nsim=100)))\n",
        "print(Sys.time()-t0)\n",
        "\n",
        "t0 = Sys.time()\n",
        "print(paste0(\"Calcul avec les simulations updatées: Ĵnextup(\",xnext,\") = \",Jnext_hat_fast(xnext,X0,Y0, nsim=100)))\n",
        "print(Sys.time()-t0)"
      ]
    },
    {
      "cell_type": "markdown",
      "id": "ea7a96cb",
      "metadata": {
        "id": "ea7a96cb"
      },
      "source": [
        "On peut finalement comparer ces différentes versions du critère $J_{next}$ :"
      ]
    },
    {
      "cell_type": "code",
      "execution_count": null,
      "id": "43d12d45",
      "metadata": {
        "lines_to_next_cell": 0,
        "id": "43d12d45"
      },
      "outputs": [],
      "source": [
        "par(mfrow=c(3,1))\n",
        "\n",
        "DJ_x = J(X,Y) - Vectorize(function(.x)Jnext(.x,X,Y))(x)\n",
        "plot(x,DJ_x, type='l',col='purple', main=\"SUR EI (predict)\")\n",
        "polygon(c(0,x,1), c(0,DJ_x,0), col=rgb(0.5,0,1,.2), border=NA)\n",
        "# Objectif\n",
        "abline(v=xmin, col='red',lty=3)\n",
        "\n",
        "DJ_hat_x = J_hat(X,Y) - Vectorize(function(.x)Jnext_hat(.x,X,Y,nsim=100))(x)\n",
        "plot(x,DJ_hat_x, type='l',col='purple', main=\"SUR EI (simulate)\")\n",
        "polygon(c(0,x,1), c(0,DJ_hat_x,0), col=rgb(0.5,0,1,.2), border=NA)\n",
        "# Objectif\n",
        "abline(v=xmin, col='red',lty=3)\n",
        "\n",
        "DJ_hat_fast_x = J_hat(X,Y) - Vectorize(function(.x)Jnext_hat_fast(.x,X,Y,nsim=100))(x)\n",
        "plot(x,DJ_hat_fast_x, type='l',col='purple', main=\"SUR EI (update simulate)\")\n",
        "polygon(c(0,x,1), c(0,DJ_hat_fast_x,0), col=rgb(0.5,0,1,.2), border=NA)\n",
        "# Objectif\n",
        "abline(v=xmin, col='red',lty=3)"
      ]
    }
  ],
  "metadata": {
    "jupytext": {
      "cell_metadata_filter": "eval,-all",
      "main_language": "R",
      "notebook_metadata_filter": "-all"
    },
    "colab": {
      "provenance": []
    },
    "language_info": {
      "name": "R"
    },
    "kernelspec": {
      "name": "ir",
      "display_name": "R"
    }
  },
  "nbformat": 4,
  "nbformat_minor": 5
}